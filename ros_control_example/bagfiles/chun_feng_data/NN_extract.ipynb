{
  "nbformat": 4,
  "nbformat_minor": 0,
  "metadata": {
    "colab": {
      "name": "ROS_bag_extract.ipynb",
      "provenance": [],
      "collapsed_sections": []
    },
    "kernelspec": {
      "name": "python3",
      "display_name": "Python 3"
    },
    "language_info": {
      "name": "python"
    }
  },
  "cells": [
    {
      "cell_type": "code",
      "metadata": {
        "colab": {
          "base_uri": "https://localhost:8080/"
        },
        "id": "5Exd2oKzRQTs",
        "outputId": "a43f12f1-8bb2-402e-c01a-dfc273dc2d25"
      },
      "source": [
        "!pip install bagpy"
      ],
      "execution_count": null,
      "outputs": [
        {
          "output_type": "stream",
          "name": "stdout",
          "text": [
            "Requirement already satisfied: bagpy in /usr/local/lib/python3.7/dist-packages (0.4.7)\n",
            "Requirement already satisfied: recommonmark in /usr/local/lib/python3.7/dist-packages (from bagpy) (0.7.1)\n",
            "Requirement already satisfied: rinohtype in /usr/local/lib/python3.7/dist-packages (from bagpy) (0.5.3)\n",
            "Requirement already satisfied: pathlib in /usr/local/lib/python3.7/dist-packages (from bagpy) (1.0.1)\n",
            "Requirement already satisfied: Sphinx==3.2.1 in /usr/local/lib/python3.7/dist-packages (from bagpy) (3.2.1)\n",
            "Requirement already satisfied: pyyaml in /usr/local/lib/python3.7/dist-packages (from bagpy) (6.0)\n",
            "Requirement already satisfied: pymdown-extensions in /usr/local/lib/python3.7/dist-packages (from bagpy) (9.1)\n",
            "Requirement already satisfied: seaborn>=0.9.0 in /usr/local/lib/python3.7/dist-packages (from bagpy) (0.11.2)\n",
            "Requirement already satisfied: ipython in /usr/local/lib/python3.7/dist-packages (from bagpy) (5.5.0)\n",
            "Requirement already satisfied: matplotlib==3.2.1 in /usr/local/lib/python3.7/dist-packages (from bagpy) (3.2.1)\n",
            "Requirement already satisfied: sphinx-rtd-theme in /usr/local/lib/python3.7/dist-packages (from bagpy) (1.0.0)\n",
            "Requirement already satisfied: numpy in /usr/local/lib/python3.7/dist-packages (from bagpy) (1.19.5)\n",
            "Requirement already satisfied: bitstring>=3.1.6 in /usr/local/lib/python3.7/dist-packages (from bagpy) (3.1.9)\n",
            "Requirement already satisfied: m2r2 in /usr/local/lib/python3.7/dist-packages (from bagpy) (0.3.2)\n",
            "Requirement already satisfied: py3rosmsgs in /usr/local/lib/python3.7/dist-packages (from bagpy) (1.18.1)\n",
            "Requirement already satisfied: sphinx-autodoc-typehints==1.4.0 in /usr/local/lib/python3.7/dist-packages (from bagpy) (1.4.0)\n",
            "Requirement already satisfied: rospkg in /usr/local/lib/python3.7/dist-packages (from bagpy) (1.3.0)\n",
            "Requirement already satisfied: pycryptodomex in /usr/local/lib/python3.7/dist-packages (from bagpy) (3.12.0)\n",
            "Requirement already satisfied: sphinx-bootstrap-theme in /usr/local/lib/python3.7/dist-packages (from bagpy) (0.8.0)\n",
            "Requirement already satisfied: pyserial>=3.4 in /usr/local/lib/python3.7/dist-packages (from bagpy) (3.5)\n",
            "Requirement already satisfied: mkdocs in /usr/local/lib/python3.7/dist-packages (from bagpy) (1.2.3)\n",
            "Requirement already satisfied: ytsphinx in /usr/local/lib/python3.7/dist-packages (from bagpy) (1.2.1.dev20200430)\n",
            "Requirement already satisfied: sphinx-markdown-parser in /usr/local/lib/python3.7/dist-packages (from bagpy) (0.2.4)\n",
            "Requirement already satisfied: pyparsing!=2.0.4,!=2.1.2,!=2.1.6,>=2.0.1 in /usr/local/lib/python3.7/dist-packages (from matplotlib==3.2.1->bagpy) (3.0.6)\n",
            "Requirement already satisfied: kiwisolver>=1.0.1 in /usr/local/lib/python3.7/dist-packages (from matplotlib==3.2.1->bagpy) (1.3.2)\n",
            "Requirement already satisfied: python-dateutil>=2.1 in /usr/local/lib/python3.7/dist-packages (from matplotlib==3.2.1->bagpy) (2.8.2)\n",
            "Requirement already satisfied: cycler>=0.10 in /usr/local/lib/python3.7/dist-packages (from matplotlib==3.2.1->bagpy) (0.11.0)\n",
            "Requirement already satisfied: setuptools in /usr/local/lib/python3.7/dist-packages (from Sphinx==3.2.1->bagpy) (57.4.0)\n",
            "Requirement already satisfied: sphinxcontrib-devhelp in /usr/local/lib/python3.7/dist-packages (from Sphinx==3.2.1->bagpy) (1.0.2)\n",
            "Requirement already satisfied: sphinxcontrib-applehelp in /usr/local/lib/python3.7/dist-packages (from Sphinx==3.2.1->bagpy) (1.0.2)\n",
            "Requirement already satisfied: babel>=1.3 in /usr/local/lib/python3.7/dist-packages (from Sphinx==3.2.1->bagpy) (2.9.1)\n",
            "Requirement already satisfied: snowballstemmer>=1.1 in /usr/local/lib/python3.7/dist-packages (from Sphinx==3.2.1->bagpy) (2.2.0)\n",
            "Requirement already satisfied: Jinja2>=2.3 in /usr/local/lib/python3.7/dist-packages (from Sphinx==3.2.1->bagpy) (2.11.3)\n",
            "Requirement already satisfied: docutils>=0.12 in /usr/local/lib/python3.7/dist-packages (from Sphinx==3.2.1->bagpy) (0.17.1)\n",
            "Requirement already satisfied: sphinxcontrib-serializinghtml in /usr/local/lib/python3.7/dist-packages (from Sphinx==3.2.1->bagpy) (1.1.5)\n",
            "Requirement already satisfied: sphinxcontrib-qthelp in /usr/local/lib/python3.7/dist-packages (from Sphinx==3.2.1->bagpy) (1.0.3)\n",
            "Requirement already satisfied: imagesize in /usr/local/lib/python3.7/dist-packages (from Sphinx==3.2.1->bagpy) (1.3.0)\n",
            "Requirement already satisfied: Pygments>=2.0 in /usr/local/lib/python3.7/dist-packages (from Sphinx==3.2.1->bagpy) (2.6.1)\n",
            "Requirement already satisfied: sphinxcontrib-jsmath in /usr/local/lib/python3.7/dist-packages (from Sphinx==3.2.1->bagpy) (1.0.1)\n",
            "Requirement already satisfied: sphinxcontrib-htmlhelp in /usr/local/lib/python3.7/dist-packages (from Sphinx==3.2.1->bagpy) (2.0.0)\n",
            "Requirement already satisfied: requests>=2.5.0 in /usr/local/lib/python3.7/dist-packages (from Sphinx==3.2.1->bagpy) (2.23.0)\n",
            "Requirement already satisfied: packaging in /usr/local/lib/python3.7/dist-packages (from Sphinx==3.2.1->bagpy) (21.3)\n",
            "Requirement already satisfied: alabaster<0.8,>=0.7 in /usr/local/lib/python3.7/dist-packages (from Sphinx==3.2.1->bagpy) (0.7.12)\n",
            "Requirement already satisfied: pytz>=2015.7 in /usr/local/lib/python3.7/dist-packages (from babel>=1.3->Sphinx==3.2.1->bagpy) (2018.9)\n",
            "Requirement already satisfied: MarkupSafe>=0.23 in /usr/local/lib/python3.7/dist-packages (from Jinja2>=2.3->Sphinx==3.2.1->bagpy) (2.0.1)\n",
            "Requirement already satisfied: six>=1.5 in /usr/local/lib/python3.7/dist-packages (from python-dateutil>=2.1->matplotlib==3.2.1->bagpy) (1.15.0)\n",
            "Requirement already satisfied: chardet<4,>=3.0.2 in /usr/local/lib/python3.7/dist-packages (from requests>=2.5.0->Sphinx==3.2.1->bagpy) (3.0.4)\n",
            "Requirement already satisfied: idna<3,>=2.5 in /usr/local/lib/python3.7/dist-packages (from requests>=2.5.0->Sphinx==3.2.1->bagpy) (2.10)\n",
            "Requirement already satisfied: urllib3!=1.25.0,!=1.25.1,<1.26,>=1.21.1 in /usr/local/lib/python3.7/dist-packages (from requests>=2.5.0->Sphinx==3.2.1->bagpy) (1.24.3)\n",
            "Requirement already satisfied: certifi>=2017.4.17 in /usr/local/lib/python3.7/dist-packages (from requests>=2.5.0->Sphinx==3.2.1->bagpy) (2021.10.8)\n",
            "Requirement already satisfied: pandas>=0.23 in /usr/local/lib/python3.7/dist-packages (from seaborn>=0.9.0->bagpy) (1.1.5)\n",
            "Requirement already satisfied: scipy>=1.0 in /usr/local/lib/python3.7/dist-packages (from seaborn>=0.9.0->bagpy) (1.4.1)\n",
            "Requirement already satisfied: prompt-toolkit<2.0.0,>=1.0.4 in /usr/local/lib/python3.7/dist-packages (from ipython->bagpy) (1.0.18)\n",
            "Requirement already satisfied: simplegeneric>0.8 in /usr/local/lib/python3.7/dist-packages (from ipython->bagpy) (0.8.1)\n",
            "Requirement already satisfied: decorator in /usr/local/lib/python3.7/dist-packages (from ipython->bagpy) (4.4.2)\n",
            "Requirement already satisfied: pickleshare in /usr/local/lib/python3.7/dist-packages (from ipython->bagpy) (0.7.5)\n",
            "Requirement already satisfied: traitlets>=4.2 in /usr/local/lib/python3.7/dist-packages (from ipython->bagpy) (5.1.1)\n",
            "Requirement already satisfied: pexpect in /usr/local/lib/python3.7/dist-packages (from ipython->bagpy) (4.8.0)\n",
            "Requirement already satisfied: wcwidth in /usr/local/lib/python3.7/dist-packages (from prompt-toolkit<2.0.0,>=1.0.4->ipython->bagpy) (0.2.5)\n",
            "Requirement already satisfied: mistune==0.8.4 in /usr/local/lib/python3.7/dist-packages (from m2r2->bagpy) (0.8.4)\n",
            "Requirement already satisfied: ghp-import>=1.0 in /usr/local/lib/python3.7/dist-packages (from mkdocs->bagpy) (2.0.2)\n",
            "Requirement already satisfied: watchdog>=2.0 in /usr/local/lib/python3.7/dist-packages (from mkdocs->bagpy) (2.1.6)\n",
            "Requirement already satisfied: click>=3.3 in /usr/local/lib/python3.7/dist-packages (from mkdocs->bagpy) (7.1.2)\n",
            "Requirement already satisfied: mergedeep>=1.3.4 in /usr/local/lib/python3.7/dist-packages (from mkdocs->bagpy) (1.3.4)\n",
            "Requirement already satisfied: pyyaml-env-tag>=0.1 in /usr/local/lib/python3.7/dist-packages (from mkdocs->bagpy) (0.1)\n",
            "Requirement already satisfied: importlib-metadata>=3.10 in /usr/local/lib/python3.7/dist-packages (from mkdocs->bagpy) (4.8.2)\n",
            "Requirement already satisfied: Markdown>=3.2.1 in /usr/local/lib/python3.7/dist-packages (from mkdocs->bagpy) (3.3.6)\n",
            "Requirement already satisfied: typing-extensions>=3.6.4 in /usr/local/lib/python3.7/dist-packages (from importlib-metadata>=3.10->mkdocs->bagpy) (3.10.0.2)\n",
            "Requirement already satisfied: zipp>=0.5 in /usr/local/lib/python3.7/dist-packages (from importlib-metadata>=3.10->mkdocs->bagpy) (3.6.0)\n",
            "Requirement already satisfied: ptyprocess>=0.5 in /usr/local/lib/python3.7/dist-packages (from pexpect->ipython->bagpy) (0.7.0)\n",
            "Requirement already satisfied: gnupg in /usr/local/lib/python3.7/dist-packages (from py3rosmsgs->bagpy) (2.3.1)\n",
            "Requirement already satisfied: psutil>=1.2.1 in /usr/local/lib/python3.7/dist-packages (from gnupg->py3rosmsgs->bagpy) (5.4.8)\n",
            "Requirement already satisfied: commonmark>=0.8.1 in /usr/local/lib/python3.7/dist-packages (from recommonmark->bagpy) (0.9.1)\n",
            "Requirement already satisfied: rinoh-typeface-texgyrepagella<0.2.0,>=0.1.1 in /usr/local/lib/python3.7/dist-packages (from rinohtype->bagpy) (0.1.1)\n",
            "Requirement already satisfied: rinoh-typeface-dejavuserif<0.2.0,>=0.1.3 in /usr/local/lib/python3.7/dist-packages (from rinohtype->bagpy) (0.1.3)\n",
            "Requirement already satisfied: rinoh-typeface-texgyreheros<0.2.0,>=0.1.1 in /usr/local/lib/python3.7/dist-packages (from rinohtype->bagpy) (0.1.1)\n",
            "Requirement already satisfied: appdirs<2.0.0,>=1.4.3 in /usr/local/lib/python3.7/dist-packages (from rinohtype->bagpy) (1.4.4)\n",
            "Requirement already satisfied: rinoh-typeface-texgyrecursor<0.2.0,>=0.1.1 in /usr/local/lib/python3.7/dist-packages (from rinohtype->bagpy) (0.1.1)\n",
            "Requirement already satisfied: distro in /usr/local/lib/python3.7/dist-packages (from rospkg->bagpy) (1.6.0)\n",
            "Requirement already satisfied: catkin-pkg in /usr/local/lib/python3.7/dist-packages (from rospkg->bagpy) (0.4.24)\n",
            "Requirement already satisfied: pydash>=4.7.5 in /usr/local/lib/python3.7/dist-packages (from sphinx-markdown-parser->bagpy) (5.1.0)\n",
            "Requirement already satisfied: yapf>=0.28.0 in /usr/local/lib/python3.7/dist-packages (from sphinx-markdown-parser->bagpy) (0.32.0)\n",
            "Requirement already satisfied: unify>=0.5 in /usr/local/lib/python3.7/dist-packages (from sphinx-markdown-parser->bagpy) (0.5)\n",
            "Requirement already satisfied: untokenize in /usr/local/lib/python3.7/dist-packages (from unify>=0.5->sphinx-markdown-parser->bagpy) (0.1.1)\n"
          ]
        }
      ]
    },
    {
      "cell_type": "code",
      "metadata": {
        "id": "qc8VXx4h22y7"
      },
      "source": [
        "# Switch the TensorFlow version 2.1\n",
        "# !pip install tensorflow==2.1.0"
      ],
      "execution_count": null,
      "outputs": []
    },
    {
      "cell_type": "code",
      "source": [
        "!pip install pyyaml h5py  # Required to save models in HDF5 format"
      ],
      "metadata": {
        "colab": {
          "base_uri": "https://localhost:8080/"
        },
        "id": "JRpXMGUW3Uf8",
        "outputId": "f408dded-3565-417b-80a7-27f3a9070f13"
      },
      "execution_count": null,
      "outputs": [
        {
          "output_type": "stream",
          "name": "stdout",
          "text": [
            "Requirement already satisfied: pyyaml in /usr/local/lib/python3.7/dist-packages (6.0)\n",
            "Requirement already satisfied: h5py in /usr/local/lib/python3.7/dist-packages (3.1.0)\n",
            "Requirement already satisfied: numpy>=1.14.5 in /usr/local/lib/python3.7/dist-packages (from h5py) (1.19.5)\n",
            "Requirement already satisfied: cached-property in /usr/local/lib/python3.7/dist-packages (from h5py) (1.5.2)\n"
          ]
        }
      ]
    },
    {
      "cell_type": "code",
      "metadata": {
        "id": "PyHsHo8WRv_C",
        "colab": {
          "base_uri": "https://localhost:8080/"
        },
        "outputId": "2d5bc732-bf96-414b-973c-1229e72bd306"
      },
      "source": [
        "import bagpy\n",
        "from bagpy import bagreader\n",
        "import pandas as pd\n",
        "from google.colab import drive\n",
        "drive.mount('/content/drive/')\n",
        "b = bagreader('/content/drive/MyDrive/Colab Notebooks/good_bag_data/my_data/sync_data_2021-12-16-10-18-50.bag')\n",
        "t = bagreader('/content/drive/MyDrive/Colab Notebooks/good_bag_data/my_data/sync_data_2021-12-16-10-18-18.bag')"
      ],
      "execution_count": null,
      "outputs": [
        {
          "output_type": "stream",
          "name": "stdout",
          "text": [
            "Mounted at /content/drive/\n",
            "[INFO]  Data folder /content/drive/MyDrive/Colab Notebooks/good_bag_data/my_data/sync_data_2021-12-16-10-18-50 already exists. Not creating.\n",
            "[INFO]  Data folder /content/drive/MyDrive/Colab Notebooks/good_bag_data/my_data/sync_data_2021-12-16-10-18-18 already exists. Not creating.\n"
          ]
        }
      ]
    },
    {
      "cell_type": "code",
      "metadata": {
        "id": "x9hSijuKTcvt"
      },
      "source": [
        "# read from bag\n",
        "visual_MSG_training = b.message_by_topic('/detecting_point_sync')\n",
        "joint_MSG_training = b.message_by_topic('/joint_state_sync')\n",
        "visual_MSG_testing = t.message_by_topic('/detecting_point_sync')\n",
        "joint_MSG_testing = t.message_by_topic('/joint_state_sync')\n",
        "# store to dataframe \n",
        "df_visual_point_training = pd.read_csv(visual_MSG_training)\n",
        "df_joint_var_training = pd.read_csv(joint_MSG_training)\n",
        "df_visual_point_testing = pd.read_csv(visual_MSG_testing)\n",
        "df_joint_var_testing= pd.read_csv(joint_MSG_testing)\n",
        "# dataframe to list\n",
        "list_visual_point_training = df_visual_point_training['data_0'].tolist()\n",
        "list_joint_training = df_joint_var_training['data_1'].tolist()\n",
        "list_visual_point_testing = df_visual_point_testing['data_0'].tolist()\n",
        "list_joint_testing = df_joint_var_testing['data_1'].tolist()\n",
        "\n",
        "# joint_MSG = b.message_by_topic('/joint_states_from_arduino_1')"
      ],
      "execution_count": null,
      "outputs": []
    },
    {
      "cell_type": "code",
      "metadata": {
        "colab": {
          "base_uri": "https://localhost:8080/"
        },
        "id": "xeO4nPkNk4mM",
        "outputId": "3be16559-7632-4826-ed89-964997d1584c"
      },
      "source": [
        "print('visual point training list len:', len(list_visual_point_training))\n",
        "print('joint data training list len:', len(list_joint_training))\n",
        "\n",
        "print('visual point testing list len:', len(list_visual_point_testing))\n",
        "print('joint data testing list len:', len(list_joint_testing))"
      ],
      "execution_count": null,
      "outputs": [
        {
          "output_type": "stream",
          "name": "stdout",
          "text": [
            "visual point training list len: 390\n",
            "joint data training list len: 390\n",
            "visual point testing list len: 391\n",
            "joint data testing list len: 391\n"
          ]
        }
      ]
    },
    {
      "cell_type": "code",
      "metadata": {
        "colab": {
          "base_uri": "https://localhost:8080/",
          "height": 282
        },
        "id": "0g6m74F4Sm6k",
        "outputId": "5bffb529-bf53-45b8-a9fc-6b6678c662c3"
      },
      "source": [
        "import matplotlib.pyplot as plt\n",
        "plt.scatter(list_joint_training, list_visual_point_training)"
      ],
      "execution_count": null,
      "outputs": [
        {
          "output_type": "execute_result",
          "data": {
            "text/plain": [
              "<matplotlib.collections.PathCollection at 0x7fbe7f541cd0>"
            ]
          },
          "metadata": {},
          "execution_count": 6
        },
        {
          "output_type": "display_data",
          "data": {
            "image/png": "[encoded data removed]",
            "text/plain": [
              "<Figure size 432x288 with 1 Axes>"
            ]
          },
          "metadata": {
            "needs_background": "light"
          }
        }
      ]
    },
    {
      "cell_type": "code",
      "source": [
        "plt.scatter(list_joint_testing, list_visual_point_testing)"
      ],
      "metadata": {
        "colab": {
          "base_uri": "https://localhost:8080/",
          "height": 282
        },
        "id": "LTVbQS6KqUvr",
        "outputId": "d0d1bc47-6506-413d-c322-2b1d3e69fd07"
      },
      "execution_count": null,
      "outputs": [
        {
          "output_type": "execute_result",
          "data": {
            "text/plain": [
              "<matplotlib.collections.PathCollection at 0x7fbe77034210>"
            ]
          },
          "metadata": {},
          "execution_count": 7
        },
        {
          "output_type": "display_data",
          "data": {
            "image/png": "[encoded data removed]",
            "text/plain": [
              "<Figure size 432x288 with 1 Axes>"
            ]
          },
          "metadata": {
            "needs_background": "light"
          }
        }
      ]
    },
    {
      "cell_type": "code",
      "metadata": {
        "colab": {
          "base_uri": "https://localhost:8080/",
          "height": 284
        },
        "id": "x1OnmNpD2d8i",
        "outputId": "af453fc3-bf69-4d57-879d-2579e6654d51"
      },
      "source": [
        "from scipy.ndimage import gaussian_filter1d\n",
        "list_visual_point_training_filter = gaussian_filter1d(list_visual_point_training, 1)\n",
        "list_visual_point_testing_filter = gaussian_filter1d(list_visual_point_testing, 1)\n",
        "\n",
        "plt.scatter(list_joint_training, list_visual_point_training_filter)"
      ],
      "execution_count": null,
      "outputs": [
        {
          "output_type": "execute_result",
          "data": {
            "text/plain": [
              "<matplotlib.collections.PathCollection at 0x7fbe76fabd90>"
            ]
          },
          "metadata": {},
          "execution_count": 8
        },
        {
          "output_type": "display_data",
          "data": {
            "image/png": "[encoded data removed]",
            "text/plain": [
              "<Figure size 432x288 with 1 Axes>"
            ]
          },
          "metadata": {
            "needs_background": "light"
          }
        }
      ]
    },
    {
      "cell_type": "code",
      "source": [
        "plt.scatter(list_joint_testing, list_visual_point_testing_filter)"
      ],
      "metadata": {
        "colab": {
          "base_uri": "https://localhost:8080/",
          "height": 282
        },
        "id": "sqpYZv1ojZzl",
        "outputId": "454dac08-099b-4306-a060-f459314013ac"
      },
      "execution_count": null,
      "outputs": [
        {
          "output_type": "execute_result",
          "data": {
            "text/plain": [
              "<matplotlib.collections.PathCollection at 0x7fbe76f1d250>"
            ]
          },
          "metadata": {},
          "execution_count": 9
        },
        {
          "output_type": "display_data",
          "data": {
            "image/png": "[encoded data removed]",
            "text/plain": [
              "<Figure size 432x288 with 1 Axes>"
            ]
          },
          "metadata": {
            "needs_background": "light"
          }
        }
      ]
    },
    {
      "cell_type": "code",
      "source": [
        "plt.plot(list_joint_training, list_visual_point_training_filter)\n",
        "plt.plot(list_joint_testing, list_visual_point_testing_filter)"
      ],
      "metadata": {
        "colab": {
          "base_uri": "https://localhost:8080/",
          "height": 284
        },
        "id": "JLwZQ9N3jlFZ",
        "outputId": "0ba20750-68f4-40b2-c38c-93ea20b1e372"
      },
      "execution_count": null,
      "outputs": [
        {
          "output_type": "execute_result",
          "data": {
            "text/plain": [
              "[<matplotlib.lines.Line2D at 0x7fc977559e10>]"
            ]
          },
          "metadata": {},
          "execution_count": 12
        },
        {
          "output_type": "display_data",
          "data": {
            "image/png": "[encoded data removed]",
            "text/plain": [
              "<Figure size 432x288 with 1 Axes>"
            ]
          },
          "metadata": {
            "needs_background": "light"
          }
        }
      ]
    },
    {
      "cell_type": "markdown",
      "metadata": {
        "id": "mzaHw-dd34Os"
      },
      "source": [
        "# Let's Start to the Training progress"
      ]
    },
    {
      "cell_type": "markdown",
      "source": [
        "Create the training dataset"
      ],
      "metadata": {
        "id": "QUwb5rNGwBtG"
      }
    },
    {
      "cell_type": "code",
      "source": [
        "import numpy as np"
      ],
      "metadata": {
        "id": "GqYhCEdRnYb9"
      },
      "execution_count": null,
      "outputs": []
    },
    {
      "cell_type": "code",
      "metadata": {
        "id": "sSGH9Aaq30wC"
      },
      "source": [
        "# Method 0\n",
        "\n",
        "delta = 0.05    #constant for sub_hys_model, to prevent zero in denominator\n",
        "\n",
        "training_input_x = np.array(list_joint_training)\n",
        "training_input_x = training_input_x + 50\n",
        "training_input_y = np.array(list_visual_point_training_filter) +150\n",
        "sub_hys_model = training_input_y/(training_input_x + np.random.normal(.01, .05, training_input_x.shape))\n",
        "\n",
        "\n",
        "training_input_data_array = np.vstack((np.vstack((training_input_x, sub_hys_model)), training_input_y)).T\n",
        "\n",
        "buff_list_visual_point_training_filter = list_visual_point_training_filter.tolist()\n",
        "buff_list_visual_point_training_filter.pop()\n",
        "buff_list_visual_point_training_filter = [0] + buff_list_visual_point_training_filter\n",
        "# buff_list_visual_point_training_filter.pop()\n",
        "# buff_list_visual_point_training_filter.pop()\n",
        "# buff_list_visual_point_training_filter.pop()\n",
        "# buff_list_visual_point_training_filter = [0, 0, 0, 0] + buff_list_visual_point_training_filter\n",
        "training_output_data = np.array(buff_list_visual_point_training_filter)\n"
      ],
      "execution_count": null,
      "outputs": []
    },
    {
      "cell_type": "code",
      "source": [
        "print(training_input_data_array[30])"
      ],
      "metadata": {
        "colab": {
          "base_uri": "https://localhost:8080/"
        },
        "id": "Eb3mhyXEsj-8",
        "outputId": "6df20aab-1710-42f6-bb55-6a67aec543b8"
      },
      "execution_count": null,
      "outputs": [
        {
          "output_type": "stream",
          "name": "stdout",
          "text": [
            "[ 39.           7.47402589 291.29941887]\n"
          ]
        }
      ]
    },
    {
      "cell_type": "code",
      "source": [
        "# Method 1\n",
        "\n",
        "def create_dataset(joint_list, visual_list, x_offset = 50, y_offset = 150):\n",
        "  # data_initializtion\n",
        "  joint_np = np.array(joint_list)\n",
        "  joint_np = joint_np + x_offset\n",
        "  visual_np = np.array(visual_list)\n",
        "  visual_np = visual_np + y_offset\n",
        "  sub_hys_model = visual_np+(joint_np + np.random.normal(.01, .05, joint_np.shape))\n",
        "\n",
        "  # creation of future/past/current datapoints\n",
        "  model_input = []\n",
        "  model_output = []\n",
        "  visual_future = []\n",
        "  past_steps = 5\n",
        "  future_steps = 5\n",
        "  for i in range(len(visual_list) - future_steps - past_steps):\n",
        "    # the current x\n",
        "    x_current = joint_np[i + past_steps]\n",
        "    # the current y\n",
        "    y_current = visual_np[i + past_steps]\n",
        "    # the past y (past 4 points)\n",
        "    y_past = []\n",
        "    for k in range(4):\n",
        "      y_past.append(visual_np[i+k])\n",
        "    # the future y (temp variable)\n",
        "    y_future = visual_np[i + past_steps + future_steps]\n",
        "\n",
        "    # the diff btw future and current y\n",
        "    y_delta = y_future - y_current\n",
        "\n",
        "    # the future x \n",
        "    x_future = joint_np[i + past_steps + future_steps]\n",
        "\n",
        "    # the input set\n",
        "    model_input_element = [x_current, y_current, y_delta] + [x for x in y_past]\n",
        "\n",
        "    # the output set\n",
        "    model_outpu_element = x_future\n",
        "\n",
        "    model_input.append(model_input_element)\n",
        "    model_output.append(model_outpu_element)\n",
        "    visual_future.append(y_future)\n",
        "  \n",
        "  return model_input, model_output, visual_future\n",
        "    \n",
        "\n",
        "input_training, output_training, visual_future = create_dataset(list_joint_training, list_visual_point_training_filter)\n",
        "\n"
      ],
      "metadata": {
        "id": "-eMKcZbCncJq"
      },
      "execution_count": null,
      "outputs": []
    },
    {
      "cell_type": "code",
      "source": [
        "# test code\n",
        "print(input_training[20])\n",
        "print(output_training[20])"
      ],
      "metadata": {
        "colab": {
          "base_uri": "https://localhost:8080/"
        },
        "id": "xCyhT00D4o5i",
        "outputId": "4e836672-7ae4-4364-d270-28e277953dd0"
      },
      "execution_count": null,
      "outputs": [
        {
          "output_type": "stream",
          "name": "stdout",
          "text": [
            "[55.0, 206.53720263217633, 84.76221623857975, 52.6643576182379, 92.48105953451939, 131.09039158985723, 161.07125328851953]\n",
            "39.0\n"
          ]
        }
      ]
    },
    {
      "cell_type": "markdown",
      "source": [
        "Create the testing dataset"
      ],
      "metadata": {
        "id": "WgILXGWywDx_"
      }
    },
    {
      "cell_type": "code",
      "source": [
        "testing_input_x = np.array(list_joint_testing)\n",
        "testing_input_x = testing_input_x + 50\n",
        "testing_input_y = np.array(list_visual_point_testing_filter) +150\n",
        "sub_hys_model = testing_input_y/(testing_input_x + np.random.normal(.01, .05, testing_input_x.shape))\n",
        "\n",
        "\n",
        "testing_input_data_array = np.vstack((np.vstack((testing_input_x, sub_hys_model)), testing_input_y)).T\n",
        "\n",
        "buff_list_visual_point_testing_filter = list_visual_point_testing_filter.tolist()\n",
        "buff_list_visual_point_testing_filter.pop()\n",
        "buff_list_visual_point_testing_filter = [0] + buff_list_visual_point_testing_filter\n",
        "# buff_list_visual_point_testing_filter.pop()\n",
        "# buff_list_visual_point_testing_filter.pop()\n",
        "# buff_list_visual_point_testing_filter.pop()\n",
        "# buff_list_visual_point_testing_filter = [0, 0, 0, 0] + buff_list_visual_point_testing_filter\n",
        "testing_output_data = np.array(buff_list_visual_point_testing_filter)"
      ],
      "metadata": {
        "id": "L-C36U_fsqC7"
      },
      "execution_count": null,
      "outputs": []
    },
    {
      "cell_type": "markdown",
      "source": [
        "**Create the model and start the training!**"
      ],
      "metadata": {
        "id": "p8EGHxFcxjqX"
      }
    },
    {
      "cell_type": "code",
      "metadata": {
        "id": "VwIC_0cN3lvX"
      },
      "source": [
        "import tensorflow as tf\n",
        "print ('TensorFlow version: ' + tf.__version__)\n",
        "\n",
        "# Create the model \n",
        "model = tf.keras.Sequential()\n",
        "model.add(tf.keras.layers.Input(shape=(3,)))\n",
        "model.add(tf.keras.layers.Dense(units = 4, activation = 'relu'))\n",
        "model.add(tf.keras.layers.Dense(units = 4, activation = 'relu'))\n",
        "model.add(tf.keras.layers.Dense(units = 1, activation = 'linear'))\n",
        "model.compile(loss='mse', optimizer=\"adam\")\n",
        "\n",
        "# Display the model\n",
        "model.summary()\n",
        "\n",
        "# start the training\n",
        "model.fit(training_input_data_array, training_output_data, epochs=200, verbose=1)"
      ],
      "execution_count": null,
      "outputs": []
    },
    {
      "cell_type": "code",
      "source": [
        "# training for new NN\n",
        "import tensorflow as tf\n",
        "# Create the model \n",
        "model = tf.keras.Sequential()\n",
        "model.add(tf.keras.layers.Input(shape=(7,)))\n",
        "model.add(tf.keras.layers.Dense(units = 16, activation = 'relu'))\n",
        "model.add(tf.keras.layers.Dense(units = 16, activation = 'relu'))\n",
        "model.add(tf.keras.layers.Dense(units = 1, activation = 'linear'))\n",
        "model.compile(loss='mse', optimizer=\"adam\")\n",
        "\n",
        "# Display the model\n",
        "model.summary()\n",
        "\n",
        "# start the training\n",
        "model.fit(input_training, output_training, epochs=200, verbose=1)"
      ],
      "metadata": {
        "colab": {
          "base_uri": "https://localhost:8080/"
        },
        "id": "iU6J5lOf93f9",
        "outputId": "2c938078-4786-4d74-878a-f39411f6c97c"
      },
      "execution_count": null,
      "outputs": [
        {
          "output_type": "stream",
          "name": "stdout",
          "text": [
            "Model: \"sequential_1\"\n",
            "_________________________________________________________________\n",
            " Layer (type)                Output Shape              Param #   \n",
            "=================================================================\n",
            " dense_3 (Dense)             (None, 16)                128       \n",
            "                                                                 \n",
            " dense_4 (Dense)             (None, 16)                272       \n",
            "                                                                 \n",
            " dense_5 (Dense)             (None, 1)                 17        \n",
            "                                                                 \n",
            "=================================================================\n",
            "Total params: 417\n",
            "Trainable params: 417\n",
            "Non-trainable params: 0\n",
            "_________________________________________________________________\n",
            "Epoch 1/200\n",
            "12/12 [==============================] - 1s 2ms/step - loss: 1888.0529\n",
            "Epoch 2/200\n",
            "12/12 [==============================] - 0s 2ms/step - loss: 1359.7872\n",
            "Epoch 3/200\n",
            "12/12 [==============================] - 0s 2ms/step - loss: 1134.1514\n",
            "Epoch 4/200\n",
            "12/12 [==============================] - 0s 2ms/step - loss: 1012.0215\n",
            "Epoch 5/200\n",
            "12/12 [==============================] - 0s 2ms/step - loss: 909.9789\n",
            "Epoch 6/200\n",
            "12/12 [==============================] - 0s 2ms/step - loss: 818.6752\n",
            "Epoch 7/200\n",
            "12/12 [==============================] - 0s 2ms/step - loss: 745.5186\n",
            "Epoch 8/200\n",
            "12/12 [==============================] - 0s 2ms/step - loss: 686.2000\n",
            "Epoch 9/200\n",
            "12/12 [==============================] - 0s 2ms/step - loss: 618.9740\n",
            "Epoch 10/200\n",
            "12/12 [==============================] - 0s 2ms/step - loss: 564.2144\n",
            "Epoch 11/200\n",
            "12/12 [==============================] - 0s 2ms/step - loss: 497.8338\n",
            "Epoch 12/200\n",
            "12/12 [==============================] - 0s 2ms/step - loss: 445.1724\n",
            "Epoch 13/200\n",
            "12/12 [==============================] - 0s 2ms/step - loss: 399.8751\n",
            "Epoch 14/200\n",
            "12/12 [==============================] - 0s 2ms/step - loss: 366.1198\n",
            "Epoch 15/200\n",
            "12/12 [==============================] - 0s 2ms/step - loss: 325.4950\n",
            "Epoch 16/200\n",
            "12/12 [==============================] - 0s 1ms/step - loss: 292.3653\n",
            "Epoch 17/200\n",
            "12/12 [==============================] - 0s 2ms/step - loss: 271.6630\n",
            "Epoch 18/200\n",
            "12/12 [==============================] - 0s 2ms/step - loss: 237.3793\n",
            "Epoch 19/200\n",
            "12/12 [==============================] - 0s 2ms/step - loss: 212.5974\n",
            "Epoch 20/200\n",
            "12/12 [==============================] - 0s 2ms/step - loss: 194.7695\n",
            "Epoch 21/200\n",
            "12/12 [==============================] - 0s 2ms/step - loss: 174.4548\n",
            "Epoch 22/200\n",
            "12/12 [==============================] - 0s 2ms/step - loss: 163.7133\n",
            "Epoch 23/200\n",
            "12/12 [==============================] - 0s 2ms/step - loss: 157.2260\n",
            "Epoch 24/200\n",
            "12/12 [==============================] - 0s 2ms/step - loss: 140.3225\n",
            "Epoch 25/200\n",
            "12/12 [==============================] - 0s 2ms/step - loss: 128.6168\n",
            "Epoch 26/200\n",
            "12/12 [==============================] - 0s 2ms/step - loss: 119.6092\n",
            "Epoch 27/200\n",
            "12/12 [==============================] - 0s 2ms/step - loss: 109.6328\n",
            "Epoch 28/200\n",
            "12/12 [==============================] - 0s 2ms/step - loss: 102.3580\n",
            "Epoch 29/200\n",
            "12/12 [==============================] - 0s 2ms/step - loss: 95.1784\n",
            "Epoch 30/200\n",
            "12/12 [==============================] - 0s 2ms/step - loss: 88.6573\n",
            "Epoch 31/200\n",
            "12/12 [==============================] - 0s 2ms/step - loss: 83.3826\n",
            "Epoch 32/200\n",
            "12/12 [==============================] - 0s 2ms/step - loss: 76.5974\n",
            "Epoch 33/200\n",
            "12/12 [==============================] - 0s 2ms/step - loss: 70.8496\n",
            "Epoch 34/200\n",
            "12/12 [==============================] - 0s 2ms/step - loss: 63.0771\n",
            "Epoch 35/200\n",
            "12/12 [==============================] - 0s 2ms/step - loss: 59.2666\n",
            "Epoch 36/200\n",
            "12/12 [==============================] - 0s 2ms/step - loss: 52.8797\n",
            "Epoch 37/200\n",
            "12/12 [==============================] - 0s 2ms/step - loss: 48.2888\n",
            "Epoch 38/200\n",
            "12/12 [==============================] - 0s 2ms/step - loss: 45.9712\n",
            "Epoch 39/200\n",
            "12/12 [==============================] - 0s 2ms/step - loss: 42.6284\n",
            "Epoch 40/200\n",
            "12/12 [==============================] - 0s 2ms/step - loss: 41.0505\n",
            "Epoch 41/200\n",
            "12/12 [==============================] - 0s 2ms/step - loss: 39.1496\n",
            "Epoch 42/200\n",
            "12/12 [==============================] - 0s 2ms/step - loss: 37.8319\n",
            "Epoch 43/200\n",
            "12/12 [==============================] - 0s 3ms/step - loss: 36.1900\n",
            "Epoch 44/200\n",
            "12/12 [==============================] - 0s 2ms/step - loss: 36.2701\n",
            "Epoch 45/200\n",
            "12/12 [==============================] - 0s 2ms/step - loss: 33.5772\n",
            "Epoch 46/200\n",
            "12/12 [==============================] - 0s 2ms/step - loss: 33.4967\n",
            "Epoch 47/200\n",
            "12/12 [==============================] - 0s 2ms/step - loss: 34.0782\n",
            "Epoch 48/200\n",
            "12/12 [==============================] - 0s 2ms/step - loss: 33.6640\n",
            "Epoch 49/200\n",
            "12/12 [==============================] - 0s 2ms/step - loss: 32.3764\n",
            "Epoch 50/200\n",
            "12/12 [==============================] - 0s 2ms/step - loss: 30.8617\n",
            "Epoch 51/200\n",
            "12/12 [==============================] - 0s 2ms/step - loss: 30.6321\n",
            "Epoch 52/200\n",
            "12/12 [==============================] - 0s 2ms/step - loss: 29.8157\n",
            "Epoch 53/200\n",
            "12/12 [==============================] - 0s 2ms/step - loss: 29.5553\n",
            "Epoch 54/200\n",
            "12/12 [==============================] - 0s 2ms/step - loss: 29.0919\n",
            "Epoch 55/200\n",
            "12/12 [==============================] - 0s 2ms/step - loss: 28.9090\n",
            "Epoch 56/200\n",
            "12/12 [==============================] - 0s 2ms/step - loss: 28.6849\n",
            "Epoch 57/200\n",
            "12/12 [==============================] - 0s 2ms/step - loss: 28.1542\n",
            "Epoch 58/200\n",
            "12/12 [==============================] - 0s 2ms/step - loss: 28.0204\n",
            "Epoch 59/200\n",
            "12/12 [==============================] - 0s 2ms/step - loss: 27.5304\n",
            "Epoch 60/200\n",
            "12/12 [==============================] - 0s 2ms/step - loss: 26.7658\n",
            "Epoch 61/200\n",
            "12/12 [==============================] - 0s 2ms/step - loss: 26.5999\n",
            "Epoch 62/200\n",
            "12/12 [==============================] - 0s 2ms/step - loss: 26.5838\n",
            "Epoch 63/200\n",
            "12/12 [==============================] - 0s 3ms/step - loss: 26.3440\n",
            "Epoch 64/200\n",
            "12/12 [==============================] - 0s 2ms/step - loss: 26.6149\n",
            "Epoch 65/200\n",
            "12/12 [==============================] - 0s 2ms/step - loss: 28.3324\n",
            "Epoch 66/200\n",
            "12/12 [==============================] - 0s 2ms/step - loss: 28.9454\n",
            "Epoch 67/200\n",
            "12/12 [==============================] - 0s 2ms/step - loss: 26.3782\n",
            "Epoch 68/200\n",
            "12/12 [==============================] - 0s 2ms/step - loss: 25.6531\n",
            "Epoch 69/200\n",
            "12/12 [==============================] - 0s 2ms/step - loss: 25.3066\n",
            "Epoch 70/200\n",
            "12/12 [==============================] - 0s 2ms/step - loss: 26.0712\n",
            "Epoch 71/200\n",
            "12/12 [==============================] - 0s 2ms/step - loss: 24.9588\n",
            "Epoch 72/200\n",
            "12/12 [==============================] - 0s 2ms/step - loss: 25.5861\n",
            "Epoch 73/200\n",
            "12/12 [==============================] - 0s 1ms/step - loss: 25.0103\n",
            "Epoch 74/200\n",
            "12/12 [==============================] - 0s 2ms/step - loss: 24.6174\n",
            "Epoch 75/200\n",
            "12/12 [==============================] - 0s 2ms/step - loss: 24.8250\n",
            "Epoch 76/200\n",
            "12/12 [==============================] - 0s 2ms/step - loss: 24.7767\n",
            "Epoch 77/200\n",
            "12/12 [==============================] - 0s 2ms/step - loss: 24.1536\n",
            "Epoch 78/200\n",
            "12/12 [==============================] - 0s 2ms/step - loss: 23.6184\n",
            "Epoch 79/200\n",
            "12/12 [==============================] - 0s 1ms/step - loss: 23.9861\n",
            "Epoch 80/200\n",
            "12/12 [==============================] - 0s 2ms/step - loss: 23.3410\n",
            "Epoch 81/200\n",
            "12/12 [==============================] - 0s 2ms/step - loss: 25.3264\n",
            "Epoch 82/200\n",
            "12/12 [==============================] - 0s 2ms/step - loss: 23.3284\n",
            "Epoch 83/200\n",
            "12/12 [==============================] - 0s 1ms/step - loss: 23.0983\n",
            "Epoch 84/200\n",
            "12/12 [==============================] - 0s 2ms/step - loss: 25.8122\n",
            "Epoch 85/200\n",
            "12/12 [==============================] - 0s 2ms/step - loss: 23.9374\n",
            "Epoch 86/200\n",
            "12/12 [==============================] - 0s 2ms/step - loss: 23.5156\n",
            "Epoch 87/200\n",
            "12/12 [==============================] - 0s 2ms/step - loss: 22.3888\n",
            "Epoch 88/200\n",
            "12/12 [==============================] - 0s 2ms/step - loss: 22.1795\n",
            "Epoch 89/200\n",
            "12/12 [==============================] - 0s 2ms/step - loss: 24.6281\n",
            "Epoch 90/200\n",
            "12/12 [==============================] - 0s 2ms/step - loss: 22.8306\n",
            "Epoch 91/200\n",
            "12/12 [==============================] - 0s 2ms/step - loss: 23.3852\n",
            "Epoch 92/200\n",
            "12/12 [==============================] - 0s 2ms/step - loss: 22.5438\n",
            "Epoch 93/200\n",
            "12/12 [==============================] - 0s 2ms/step - loss: 22.6133\n",
            "Epoch 94/200\n",
            "12/12 [==============================] - 0s 2ms/step - loss: 22.6209\n",
            "Epoch 95/200\n",
            "12/12 [==============================] - 0s 2ms/step - loss: 21.5184\n",
            "Epoch 96/200\n",
            "12/12 [==============================] - 0s 2ms/step - loss: 21.5019\n",
            "Epoch 97/200\n",
            "12/12 [==============================] - 0s 2ms/step - loss: 21.8619\n",
            "Epoch 98/200\n",
            "12/12 [==============================] - 0s 2ms/step - loss: 21.7362\n",
            "Epoch 99/200\n",
            "12/12 [==============================] - 0s 2ms/step - loss: 21.5311\n",
            "Epoch 100/200\n",
            "12/12 [==============================] - 0s 2ms/step - loss: 20.8264\n",
            "Epoch 101/200\n",
            "12/12 [==============================] - 0s 2ms/step - loss: 21.0301\n",
            "Epoch 102/200\n",
            "12/12 [==============================] - 0s 2ms/step - loss: 21.0071\n",
            "Epoch 103/200\n",
            "12/12 [==============================] - 0s 2ms/step - loss: 21.4674\n",
            "Epoch 104/200\n",
            "12/12 [==============================] - 0s 2ms/step - loss: 20.9193\n",
            "Epoch 105/200\n",
            "12/12 [==============================] - 0s 2ms/step - loss: 21.3486\n",
            "Epoch 106/200\n",
            "12/12 [==============================] - 0s 2ms/step - loss: 21.5788\n",
            "Epoch 107/200\n",
            "12/12 [==============================] - 0s 2ms/step - loss: 20.6915\n",
            "Epoch 108/200\n",
            "12/12 [==============================] - 0s 2ms/step - loss: 20.9031\n",
            "Epoch 109/200\n",
            "12/12 [==============================] - 0s 2ms/step - loss: 19.9764\n",
            "Epoch 110/200\n",
            "12/12 [==============================] - 0s 2ms/step - loss: 19.8576\n",
            "Epoch 111/200\n",
            "12/12 [==============================] - 0s 2ms/step - loss: 20.3170\n",
            "Epoch 112/200\n",
            "12/12 [==============================] - 0s 2ms/step - loss: 19.8883\n",
            "Epoch 113/200\n",
            "12/12 [==============================] - 0s 2ms/step - loss: 20.3702\n",
            "Epoch 114/200\n",
            "12/12 [==============================] - 0s 2ms/step - loss: 20.0169\n",
            "Epoch 115/200\n",
            "12/12 [==============================] - 0s 2ms/step - loss: 20.3288\n",
            "Epoch 116/200\n",
            "12/12 [==============================] - 0s 2ms/step - loss: 21.0368\n",
            "Epoch 117/200\n",
            "12/12 [==============================] - 0s 2ms/step - loss: 19.7552\n",
            "Epoch 118/200\n",
            "12/12 [==============================] - 0s 2ms/step - loss: 19.7960\n",
            "Epoch 119/200\n",
            "12/12 [==============================] - 0s 2ms/step - loss: 19.8635\n",
            "Epoch 120/200\n",
            "12/12 [==============================] - 0s 2ms/step - loss: 19.7254\n",
            "Epoch 121/200\n",
            "12/12 [==============================] - 0s 2ms/step - loss: 19.7848\n",
            "Epoch 122/200\n",
            "12/12 [==============================] - 0s 2ms/step - loss: 19.5972\n",
            "Epoch 123/200\n",
            "12/12 [==============================] - 0s 2ms/step - loss: 19.4542\n",
            "Epoch 124/200\n",
            "12/12 [==============================] - 0s 2ms/step - loss: 20.4397\n",
            "Epoch 125/200\n",
            "12/12 [==============================] - 0s 2ms/step - loss: 19.6960\n",
            "Epoch 126/200\n",
            "12/12 [==============================] - 0s 2ms/step - loss: 19.1885\n",
            "Epoch 127/200\n",
            "12/12 [==============================] - 0s 2ms/step - loss: 18.9027\n",
            "Epoch 128/200\n",
            "12/12 [==============================] - 0s 2ms/step - loss: 19.4519\n",
            "Epoch 129/200\n",
            "12/12 [==============================] - 0s 2ms/step - loss: 19.1147\n",
            "Epoch 130/200\n",
            "12/12 [==============================] - 0s 2ms/step - loss: 19.1240\n",
            "Epoch 131/200\n",
            "12/12 [==============================] - 0s 2ms/step - loss: 20.2959\n",
            "Epoch 132/200\n",
            "12/12 [==============================] - 0s 2ms/step - loss: 19.5041\n",
            "Epoch 133/200\n",
            "12/12 [==============================] - 0s 2ms/step - loss: 19.1547\n",
            "Epoch 134/200\n",
            "12/12 [==============================] - 0s 2ms/step - loss: 19.3400\n",
            "Epoch 135/200\n",
            "12/12 [==============================] - 0s 2ms/step - loss: 20.5670\n",
            "Epoch 136/200\n",
            "12/12 [==============================] - 0s 2ms/step - loss: 19.0892\n",
            "Epoch 137/200\n",
            "12/12 [==============================] - 0s 2ms/step - loss: 18.9728\n",
            "Epoch 138/200\n",
            "12/12 [==============================] - 0s 2ms/step - loss: 19.0035\n",
            "Epoch 139/200\n",
            "12/12 [==============================] - 0s 2ms/step - loss: 19.3163\n",
            "Epoch 140/200\n",
            "12/12 [==============================] - 0s 2ms/step - loss: 19.9423\n",
            "Epoch 141/200\n",
            "12/12 [==============================] - 0s 2ms/step - loss: 19.5917\n",
            "Epoch 142/200\n",
            "12/12 [==============================] - 0s 2ms/step - loss: 20.3467\n",
            "Epoch 143/200\n",
            "12/12 [==============================] - 0s 2ms/step - loss: 19.0847\n",
            "Epoch 144/200\n",
            "12/12 [==============================] - 0s 2ms/step - loss: 19.7142\n",
            "Epoch 145/200\n",
            "12/12 [==============================] - 0s 2ms/step - loss: 23.0183\n",
            "Epoch 146/200\n",
            "12/12 [==============================] - 0s 2ms/step - loss: 22.4752\n",
            "Epoch 147/200\n",
            "12/12 [==============================] - 0s 2ms/step - loss: 19.8581\n",
            "Epoch 148/200\n",
            "12/12 [==============================] - 0s 2ms/step - loss: 18.9631\n",
            "Epoch 149/200\n",
            "12/12 [==============================] - 0s 3ms/step - loss: 18.5988\n",
            "Epoch 150/200\n",
            "12/12 [==============================] - 0s 2ms/step - loss: 18.4068\n",
            "Epoch 151/200\n",
            "12/12 [==============================] - 0s 2ms/step - loss: 18.7460\n",
            "Epoch 152/200\n",
            "12/12 [==============================] - 0s 2ms/step - loss: 18.3856\n",
            "Epoch 153/200\n",
            "12/12 [==============================] - 0s 2ms/step - loss: 18.8955\n",
            "Epoch 154/200\n",
            "12/12 [==============================] - 0s 2ms/step - loss: 19.5718\n",
            "Epoch 155/200\n",
            "12/12 [==============================] - 0s 2ms/step - loss: 18.8564\n",
            "Epoch 156/200\n",
            "12/12 [==============================] - 0s 2ms/step - loss: 19.1273\n",
            "Epoch 157/200\n",
            "12/12 [==============================] - 0s 2ms/step - loss: 18.1826\n",
            "Epoch 158/200\n",
            "12/12 [==============================] - 0s 2ms/step - loss: 18.7173\n",
            "Epoch 159/200\n",
            "12/12 [==============================] - 0s 2ms/step - loss: 19.8742\n",
            "Epoch 160/200\n",
            "12/12 [==============================] - 0s 2ms/step - loss: 18.6356\n",
            "Epoch 161/200\n",
            "12/12 [==============================] - 0s 2ms/step - loss: 18.1805\n",
            "Epoch 162/200\n",
            "12/12 [==============================] - 0s 2ms/step - loss: 18.3748\n",
            "Epoch 163/200\n",
            "12/12 [==============================] - 0s 2ms/step - loss: 19.9385\n",
            "Epoch 164/200\n",
            "12/12 [==============================] - 0s 2ms/step - loss: 18.4468\n",
            "Epoch 165/200\n",
            "12/12 [==============================] - 0s 2ms/step - loss: 18.2260\n",
            "Epoch 166/200\n",
            "12/12 [==============================] - 0s 2ms/step - loss: 19.2705\n",
            "Epoch 167/200\n",
            "12/12 [==============================] - 0s 2ms/step - loss: 18.6153\n",
            "Epoch 168/200\n",
            "12/12 [==============================] - 0s 2ms/step - loss: 18.3395\n",
            "Epoch 169/200\n",
            "12/12 [==============================] - 0s 2ms/step - loss: 18.4169\n",
            "Epoch 170/200\n",
            "12/12 [==============================] - 0s 3ms/step - loss: 17.9418\n",
            "Epoch 171/200\n",
            "12/12 [==============================] - 0s 2ms/step - loss: 17.9999\n",
            "Epoch 172/200\n",
            "12/12 [==============================] - 0s 3ms/step - loss: 20.1140\n",
            "Epoch 173/200\n",
            "12/12 [==============================] - 0s 2ms/step - loss: 18.2012\n",
            "Epoch 174/200\n",
            "12/12 [==============================] - 0s 2ms/step - loss: 18.8182\n",
            "Epoch 175/200\n",
            "12/12 [==============================] - 0s 2ms/step - loss: 18.0843\n",
            "Epoch 176/200\n",
            "12/12 [==============================] - 0s 2ms/step - loss: 18.5602\n",
            "Epoch 177/200\n",
            "12/12 [==============================] - 0s 2ms/step - loss: 17.8382\n",
            "Epoch 178/200\n",
            "12/12 [==============================] - 0s 2ms/step - loss: 18.0969\n",
            "Epoch 179/200\n",
            "12/12 [==============================] - 0s 2ms/step - loss: 18.3780\n",
            "Epoch 180/200\n",
            "12/12 [==============================] - 0s 2ms/step - loss: 18.4268\n",
            "Epoch 181/200\n",
            "12/12 [==============================] - 0s 2ms/step - loss: 17.6608\n",
            "Epoch 182/200\n",
            "12/12 [==============================] - 0s 2ms/step - loss: 18.9685\n",
            "Epoch 183/200\n",
            "12/12 [==============================] - 0s 2ms/step - loss: 18.4819\n",
            "Epoch 184/200\n",
            "12/12 [==============================] - 0s 2ms/step - loss: 17.7849\n",
            "Epoch 185/200\n",
            "12/12 [==============================] - 0s 2ms/step - loss: 18.2147\n",
            "Epoch 186/200\n",
            "12/12 [==============================] - 0s 2ms/step - loss: 18.2425\n",
            "Epoch 187/200\n",
            "12/12 [==============================] - 0s 2ms/step - loss: 17.4733\n",
            "Epoch 188/200\n",
            "12/12 [==============================] - 0s 2ms/step - loss: 17.5235\n",
            "Epoch 189/200\n",
            "12/12 [==============================] - 0s 2ms/step - loss: 18.3851\n",
            "Epoch 190/200\n",
            "12/12 [==============================] - 0s 2ms/step - loss: 18.6516\n",
            "Epoch 191/200\n",
            "12/12 [==============================] - 0s 2ms/step - loss: 19.2985\n",
            "Epoch 192/200\n",
            "12/12 [==============================] - 0s 2ms/step - loss: 18.2933\n",
            "Epoch 193/200\n",
            "12/12 [==============================] - 0s 2ms/step - loss: 18.1828\n",
            "Epoch 194/200\n",
            "12/12 [==============================] - 0s 2ms/step - loss: 17.8052\n",
            "Epoch 195/200\n",
            "12/12 [==============================] - 0s 2ms/step - loss: 17.8167\n",
            "Epoch 196/200\n",
            "12/12 [==============================] - 0s 2ms/step - loss: 17.7443\n",
            "Epoch 197/200\n",
            "12/12 [==============================] - 0s 2ms/step - loss: 18.1249\n",
            "Epoch 198/200\n",
            "12/12 [==============================] - 0s 2ms/step - loss: 17.9478\n",
            "Epoch 199/200\n",
            "12/12 [==============================] - 0s 2ms/step - loss: 17.8221\n",
            "Epoch 200/200\n",
            "12/12 [==============================] - 0s 2ms/step - loss: 18.0452\n"
          ]
        },
        {
          "output_type": "execute_result",
          "data": {
            "text/plain": [
              "<keras.callbacks.History at 0x7fbe0b84cc50>"
            ]
          },
          "metadata": {},
          "execution_count": 14
        }
      ]
    },
    {
      "cell_type": "markdown",
      "source": [
        "# Computing the Error for the result\n",
        "\n",
        "---\n",
        "\n"
      ],
      "metadata": {
        "id": "Fg7wt3Kkv0QU"
      }
    },
    {
      "cell_type": "markdown",
      "source": [
        "Display the predicted results and raw data"
      ],
      "metadata": {
        "id": "kJgfPXKnwS44"
      }
    },
    {
      "cell_type": "code",
      "metadata": {
        "colab": {
          "base_uri": "https://localhost:8080/",
          "height": 284
        },
        "id": "MWA-KcPW45JL",
        "outputId": "bd1ebd21-cd45-4452-d674-bfc40cb03082"
      },
      "source": [
        "# Test the model with test_data_array\n",
        "y_predicted = model.predict(testing_input_data_array)\n",
        "\n",
        "# Display the result\n",
        "interval = 2\n",
        "plt.plot(testing_input_x[::interval], list_visual_point_testing[::interval], c = 'blue')\n",
        "plt.plot(testing_input_x[::interval], y_predicted[::interval], c = 'orange')\n"
      ],
      "execution_count": null,
      "outputs": [
        {
          "output_type": "execute_result",
          "data": {
            "text/plain": [
              "[<matplotlib.lines.Line2D at 0x7fc90b70fbd0>]"
            ]
          },
          "metadata": {},
          "execution_count": 26
        },
        {
          "output_type": "display_data",
          "data": {
            "image/png": "[encoded data removed]",
            "text/plain": [
              "<Figure size 432x288 with 1 Axes>"
            ]
          },
          "metadata": {
            "needs_background": "light"
          }
        }
      ]
    },
    {
      "cell_type": "markdown",
      "source": [
        "Compute the error for the prediction"
      ],
      "metadata": {
        "id": "bupEZMfawZN7"
      }
    },
    {
      "cell_type": "code",
      "source": [
        "error_accu = 0\n",
        "for i in range(len(y_predicted)):\n",
        "  error_accu = error_accu + abs(y_predicted[i]-list_visual_point_testing_filter[i])\n",
        "print(error_accu/len(y_predicted))"
      ],
      "metadata": {
        "colab": {
          "base_uri": "https://localhost:8080/"
        },
        "id": "CREgG6t2wg4t",
        "outputId": "04dfb079-41c7-4ea9-d288-bb1b9bd0e2af"
      },
      "execution_count": null,
      "outputs": [
        {
          "output_type": "stream",
          "name": "stdout",
          "text": [
            "[10.9535475]\n"
          ]
        }
      ]
    },
    {
      "cell_type": "markdown",
      "source": [
        "# Plot the figure for second method!!!"
      ],
      "metadata": {
        "id": "SdPnpClpAf3D"
      }
    },
    {
      "cell_type": "code",
      "source": [
        "# Test the model with training array and plot\n",
        "q_predicted = model.predict(input_training)\n",
        "\n",
        "plt.scatter(q_predicted[::1], visual_future[::1], c = 'blue')\n",
        "plt.scatter(np.array(input_training)[:, 0], np.array(input_training)[:, 1], c = 'orange')"
      ],
      "metadata": {
        "colab": {
          "base_uri": "https://localhost:8080/",
          "height": 284
        },
        "id": "RsRbwTMqBjvJ",
        "outputId": "2036d3c9-81e6-4360-93d6-90638a368e83"
      },
      "execution_count": null,
      "outputs": [
        {
          "output_type": "execute_result",
          "data": {
            "text/plain": [
              "<matplotlib.collections.PathCollection at 0x7fbe0a6cc990>"
            ]
          },
          "metadata": {},
          "execution_count": 16
        },
        {
          "output_type": "display_data",
          "data": {
            "image/png": "[encoded data removed]",
            "text/plain": [
              "<Figure size 432x288 with 1 Axes>"
            ]
          },
          "metadata": {
            "needs_background": "light"
          }
        }
      ]
    },
    {
      "cell_type": "code",
      "source": [
        "plt.plot(q_predicted[::1], c = 'blue')\n",
        "plt.plot(output_training, c = 'orange')\n"
      ],
      "metadata": {
        "colab": {
          "base_uri": "https://localhost:8080/",
          "height": 284
        },
        "id": "yUzZhtECGD4Z",
        "outputId": "2f28e8de-0c9d-4169-a9e9-04437179365f"
      },
      "execution_count": null,
      "outputs": [
        {
          "output_type": "execute_result",
          "data": {
            "text/plain": [
              "[<matplotlib.lines.Line2D at 0x7fe8943c0990>]"
            ]
          },
          "metadata": {},
          "execution_count": 59
        },
        {
          "output_type": "display_data",
          "data": {
            "image/png": "[encoded data removed]",
            "text/plain": [
              "<Figure size 432x288 with 1 Axes>"
            ]
          },
          "metadata": {
            "needs_background": "light"
          }
        }
      ]
    },
    {
      "cell_type": "markdown",
      "source": [
        "**SAVE MODEL MODEL!!**"
      ],
      "metadata": {
        "id": "fnnXoIqZ4bxJ"
      }
    },
    {
      "cell_type": "code",
      "source": [
        "model.save('/content/drive/MyDrive/Colab Notebooks/NN_test.h5') "
      ],
      "metadata": {
        "id": "tLA4ryrY4bVV"
      },
      "execution_count": null,
      "outputs": []
    },
    {
      "cell_type": "markdown",
      "source": [
        "# Experiment from Lorenzo"
      ],
      "metadata": {
        "id": "JWn8LHfs8eWi"
      }
    },
    {
      "cell_type": "code",
      "source": [
        "c = bagreader('/content/drive/MyDrive/Colab Notebooks/lorenzo_results/long_data.bag')"
      ],
      "metadata": {
        "colab": {
          "base_uri": "https://localhost:8080/"
        },
        "id": "zsfRtY1x8Zqy",
        "outputId": "b75362cb-0610-48b8-8db5-86bfa8395383"
      },
      "execution_count": null,
      "outputs": [
        {
          "output_type": "stream",
          "name": "stdout",
          "text": [
            "[INFO]  Data folder /content/drive/MyDrive/Colab Notebooks/lorenzo_results/long_data already exists. Not creating.\n"
          ]
        }
      ]
    },
    {
      "cell_type": "code",
      "source": [
        "error_and_data_MSG = c.message_by_topic('/error_and_data_for_error_computation_test')\n",
        "df_error_and_data = pd.read_csv(error_and_data_MSG)\n",
        "list_cam_x = df_error_and_data['data_2'].tolist()\n",
        "list_q_1 = df_error_and_data['data_6'].tolist()\n",
        "list_t_sec = df_error_and_data['data_8'].tolist()\n",
        "list_t_nsec = df_error_and_data['data_9'].tolist()\n",
        "import matplotlib.pyplot as plt\n",
        "# plt.plot(x_new , y_new)\n",
        "plt.scatter(list_cam_x, list_q_1)"
      ],
      "metadata": {
        "colab": {
          "base_uri": "https://localhost:8080/",
          "height": 282
        },
        "id": "uu9sHpYpwOg5",
        "outputId": "5779c27c-a9ff-4cd8-98af-5d1bd9dcfac9"
      },
      "execution_count": null,
      "outputs": [
        {
          "output_type": "execute_result",
          "data": {
            "text/plain": [
              "<matplotlib.collections.PathCollection at 0x7fbf400c8450>"
            ]
          },
          "metadata": {},
          "execution_count": 6
        },
        {
          "output_type": "display_data",
          "data": {
            "image/png": "[encoded data removed]",
            "text/plain": [
              "<Figure size 432x288 with 1 Axes>"
            ]
          },
          "metadata": {
            "needs_background": "light"
          }
        }
      ]
    },
    {
      "cell_type": "code",
      "source": [
        "cam_x_official = list_cam_x\n",
        "q_1_official = list_q_1\n",
        "count = 0\n",
        "\n",
        "for i in range(len(list_cam_x)-1):\n",
        "  if(list_cam_x[i+1]!=1000 and (list_t_sec[i]!=list_t_sec[i+1] or list_t_nsec[i]!=list_t_nsec[i+1])):  \n",
        "    cam_x_official[count]=list_cam_x[i+1]\n",
        "    q_1_official[count]=list_q_1[i+1]\n",
        "    count = count+1\n",
        "\n"
      ],
      "metadata": {
        "id": "AZ0anFSOwe_M"
      },
      "execution_count": null,
      "outputs": []
    },
    {
      "cell_type": "code",
      "source": [
        "import matplotlib.pyplot as plt\n",
        "# plt.plot(x_new , y_new)\n",
        "plt.plot(q_1_official[:20000], cam_x_official[:20000])\n",
        "q_1_official = q_1_official[:20000]\n",
        "cam_x_official = cam_x_official[:20000]"
      ],
      "metadata": {
        "colab": {
          "base_uri": "https://localhost:8080/",
          "height": 265
        },
        "id": "_25RYqg2wisg",
        "outputId": "c9e5e0e6-8e05-429f-b85d-37cfc3b4e77b"
      },
      "execution_count": null,
      "outputs": [
        {
          "output_type": "display_data",
          "data": {
            "image/png": "[encoded data removed]",
            "text/plain": [
              "<Figure size 432x288 with 1 Axes>"
            ]
          },
          "metadata": {
            "needs_background": "light"
          }
        }
      ]
    },
    {
      "cell_type": "code",
      "source": [
        "def split_data_set(x, y, midpoint):\n",
        "  return x[:midpoint], x[midpoint:], y[:midpoint], y[midpoint:]\n",
        "\n",
        "# split the dataset\n",
        "\n",
        "input_x_training, input_x_testing, input_y_training, input_y_testing = split_data_set(q_1_official, cam_x_official, 15000)"
      ],
      "metadata": {
        "id": "LDpz-3Gy9enj"
      },
      "execution_count": null,
      "outputs": []
    },
    {
      "cell_type": "code",
      "source": [
        "from scipy.ndimage import gaussian_filter1d\n",
        "input_y_training_filter = gaussian_filter1d(input_y_training, 2)\n",
        "input_y_testing_filter = gaussian_filter1d(input_y_testing, 2)\n",
        "\n",
        "plt.scatter(input_x_training, input_y_training_filter)\n",
        "print(len(input_y_training_filter))"
      ],
      "metadata": {
        "colab": {
          "base_uri": "https://localhost:8080/",
          "height": 282
        },
        "id": "lkOttxxixfON",
        "outputId": "02eee1c3-0b1d-49a9-bde3-47032b2a5b8d"
      },
      "execution_count": null,
      "outputs": [
        {
          "output_type": "stream",
          "name": "stdout",
          "text": [
            "15000\n"
          ]
        },
        {
          "output_type": "display_data",
          "data": {
            "image/png": "[encoded data removed]",
            "text/plain": [
              "<Figure size 432x288 with 1 Axes>"
            ]
          },
          "metadata": {
            "needs_background": "light"
          }
        }
      ]
    },
    {
      "cell_type": "code",
      "source": [
        "import numpy as np"
      ],
      "metadata": {
        "id": "DKteLGAaobWe"
      },
      "execution_count": null,
      "outputs": []
    },
    {
      "cell_type": "code",
      "source": [
        "# to build input for model\n",
        "import numpy as np\n",
        "def create_nn_input_array(input_x, input_y):\n",
        "  # for training input\n",
        "  offset_x = 70\n",
        "  offset_y = 0\n",
        "  offset_time = 2\n",
        "  input_x = np.array(input_x)\n",
        "  input_x = input_x + offset_x\n",
        "  input_y = np.array(input_y)\n",
        "  sub_hys_model = input_y/(input_x + np.random.normal(.01, .05, input_x.shape))\n",
        "  model_input_array = np.vstack((np.vstack((input_x, sub_hys_model)), input_y)).T\n",
        "  \n",
        "  # for training output\n",
        "  buff_input_y = input_y.tolist()\n",
        "  for i in range(offset_time):\n",
        "    buff_input_y.pop()\n",
        "  buff_input_y = [0] * offset_time + buff_input_y\n",
        "  model_ouput_array = np.array(buff_input_y)\n",
        "\n",
        "  return model_input_array, model_ouput_array\n",
        "\n",
        "training_input, training_output = create_nn_input_array(input_x_training, input_y_training_filter)\n",
        "testing_input, testing_ouput = create_nn_input_array(input_x_testing, input_y_testing_filter)\n"
      ],
      "metadata": {
        "id": "k-duo0ahogiW"
      },
      "execution_count": null,
      "outputs": []
    },
    {
      "cell_type": "code",
      "source": [
        "import numpy as np\n",
        "delta = 0.05    #constant for sub_hys_model, to prevent zero in denominator\n",
        "\n",
        "training_input_x = np.array(q_1_official)\n",
        "training_input_x = training_input_x  + 70\n",
        "training_input_y = np.array(cam_x_official_filter)\n",
        "sub_hys_model = training_input_y/(training_input_x + np.random.normal(.01, .05, training_input_x.shape))\n",
        "# sub_hys_model = training_input_x/(training_input_y + np.random.normal(.01, .05, training_input_x.shape))\n",
        "\n",
        "\n",
        "training_input_data_array = np.vstack((np.vstack((training_input_x, sub_hys_model)), training_input_y)).T\n",
        "\n",
        "buff_cam_x_official_filter = cam_x_official_filter.tolist()\n",
        "buff_cam_x_official_filter.pop()\n",
        "buff_cam_x_official_filter.pop()\n",
        "buff_cam_x_official_filter.pop()\n",
        "buff_cam_x_official_filter.pop()\n",
        "buff_cam_x_official_filter = [0, 0, 0, 0] + buff_cam_x_official_filter\n",
        "training_output_data = np.array(buff_cam_x_official_filter)\n"
      ],
      "metadata": {
        "id": "n1zFJyMGx3FR"
      },
      "execution_count": null,
      "outputs": []
    },
    {
      "cell_type": "code",
      "source": [
        "import tensorflow as tf\n",
        "\n",
        "# Create the model \n",
        "model = tf.keras.Sequential()\n",
        "model.add(tf.keras.layers.Input(shape=(3,)))\n",
        "model.add(tf.keras.layers.Dense(units = 8, activation = 'relu'))\n",
        "model.add(tf.keras.layers.Dense(units = 8, activation = 'relu'))\n",
        "model.add(tf.keras.layers.Dense(units = 1, activation = 'linear'))\n",
        "model.compile(loss='mse', optimizer=\"adam\")\n",
        "\n",
        "# Display the model\n",
        "model.summary()"
      ],
      "metadata": {
        "colab": {
          "base_uri": "https://localhost:8080/"
        },
        "id": "7Zvk-8WVx0aK",
        "outputId": "ba7603d4-3a2e-464c-a85b-6d8e5e530fe1"
      },
      "execution_count": null,
      "outputs": [
        {
          "output_type": "stream",
          "name": "stdout",
          "text": [
            "Model: \"sequential\"\n",
            "_________________________________________________________________\n",
            " Layer (type)                Output Shape              Param #   \n",
            "=================================================================\n",
            " dense (Dense)               (None, 8)                 32        \n",
            "                                                                 \n",
            " dense_1 (Dense)             (None, 8)                 72        \n",
            "                                                                 \n",
            " dense_2 (Dense)             (None, 1)                 9         \n",
            "                                                                 \n",
            "=================================================================\n",
            "Total params: 113\n",
            "Trainable params: 113\n",
            "Non-trainable params: 0\n",
            "_________________________________________________________________\n"
          ]
        }
      ]
    },
    {
      "cell_type": "code",
      "source": [
        "model.fit(training_input, training_output, epochs=5, verbose=1)"
      ],
      "metadata": {
        "colab": {
          "base_uri": "https://localhost:8080/"
        },
        "id": "gwI4TKd9yiOG",
        "outputId": "34168da3-efbe-4dea-e9ec-3ed1e85afd70"
      },
      "execution_count": null,
      "outputs": [
        {
          "output_type": "stream",
          "name": "stdout",
          "text": [
            "Epoch 1/5\n",
            "469/469 [==============================] - 1s 1ms/step - loss: 8709.1719\n",
            "Epoch 2/5\n",
            "469/469 [==============================] - 1s 1ms/step - loss: 77.0044\n",
            "Epoch 3/5\n",
            "469/469 [==============================] - 1s 1ms/step - loss: 75.9693\n",
            "Epoch 4/5\n",
            "469/469 [==============================] - 1s 2ms/step - loss: 74.5337\n",
            "Epoch 5/5\n",
            "469/469 [==============================] - 1s 1ms/step - loss: 72.7399\n"
          ]
        },
        {
          "output_type": "execute_result",
          "data": {
            "text/plain": [
              "<keras.callbacks.History at 0x7fbec94e55d0>"
            ]
          },
          "metadata": {},
          "execution_count": 20
        }
      ]
    },
    {
      "cell_type": "code",
      "source": [
        "# Compute the output \n",
        "output_predicted = model.predict(testing_input)\n",
        "print(len(testing_input), len(output_predicted))\n",
        "# Display the result\n",
        "plt.scatter(testing_input.T[0], output_predicted, c = 'orange')\n",
        "plt.scatter(testing_input.T[0], testing_ouput, c = 'blue')\n"
      ],
      "metadata": {
        "colab": {
          "base_uri": "https://localhost:8080/",
          "height": 300
        },
        "id": "jfewTQUS117x",
        "outputId": "f7f33a32-fff6-4039-a068-73f0ecb06458"
      },
      "execution_count": null,
      "outputs": [
        {
          "output_type": "stream",
          "name": "stdout",
          "text": [
            "5000 5000\n"
          ]
        },
        {
          "output_type": "execute_result",
          "data": {
            "text/plain": [
              "<matplotlib.collections.PathCollection at 0x7fbec90029d0>"
            ]
          },
          "metadata": {},
          "execution_count": 28
        },
        {
          "output_type": "display_data",
          "data": {
            "image/png": "[encoded data removed]",
            "text/plain": [
              "<Figure size 432x288 with 1 Axes>"
            ]
          },
          "metadata": {
            "needs_background": "light"
          }
        }
      ]
    },
    {
      "cell_type": "code",
      "source": [
        "output_predicted_training = model.predict(training_input)\n",
        "\n",
        "plt.scatter(training_input.T[0][200:220], output_predicted_training[200:220], c = 'orange')\n",
        "plt.scatter(training_input.T[0][200:220], training_output[200:220], c = 'blue')"
      ],
      "metadata": {
        "colab": {
          "base_uri": "https://localhost:8080/",
          "height": 282
        },
        "id": "ig5XgcG72xuj",
        "outputId": "ba0796d3-c814-4064-8e88-54d5a5741e02"
      },
      "execution_count": null,
      "outputs": [
        {
          "output_type": "execute_result",
          "data": {
            "text/plain": [
              "<matplotlib.collections.PathCollection at 0x7fbec8e42f10>"
            ]
          },
          "metadata": {},
          "execution_count": 32
        },
        {
          "output_type": "display_data",
          "data": {
            "image/png": "[encoded data removed]",
            "text/plain": [
              "<Figure size 432x288 with 1 Axes>"
            ]
          },
          "metadata": {
            "needs_background": "light"
          }
        }
      ]
    },
    {
      "cell_type": "code",
      "source": [
        "# def pop_out_points(a, b, threshold=999):\n",
        "  \n",
        "#   if len(a)>len(b):\n",
        "#     diff = len(a) - len(b)\n",
        "#     interval = len(a) / diff\n",
        "#     for i in range(diff):\n",
        "#       a.pop(diff * i)\n",
        "#   elif len(a)<len(b):\n",
        "#     diff = len(b) - len(a)\n",
        "#     interval = len(b) / diff\n",
        "#     for i in range(diff):\n",
        "#       b.pop(diff * (i+1))\n",
        "\n",
        "\n",
        "#   new_a = [x for x, y in zip(a, b) if y < threshold]\n",
        "#   new_b = [y for x, y in zip(a, b) if y < threshold]\n",
        "\n",
        "#   return new_a, new_b"
      ],
      "metadata": {
        "id": "Laoe6scjNiL2"
      },
      "execution_count": null,
      "outputs": []
    },
    {
      "cell_type": "code",
      "source": [
        "# def pop_out_points(a, b, threshold=999):\n",
        "#   if len(a)>len(b):\n",
        "#     a = a[0:len(b)]\n",
        "#   elif len(a)<len(b):\n",
        "#     b = b[0:len(a)]\n",
        "#   else:\n",
        "#     None\n",
        "#   new_a = [x for x, y in zip(a, b) if y < threshold]\n",
        "#   new_b = [y for x, y in zip(a, b) if y < threshold]\n",
        "  \n",
        "#   return new_a, new_b\n",
        "    "
      ],
      "metadata": {
        "id": "Rq4cI2iQW8cl"
      },
      "execution_count": null,
      "outputs": []
    },
    {
      "cell_type": "code",
      "metadata": {
        "id": "s6-K-X1IW9dl"
      },
      "source": [
        "# list_joint_training ,list_visual_point_training = pop_out_points(list_joint_training, list_visual_point_training)\n"
      ],
      "execution_count": null,
      "outputs": []
    }
  ]
}